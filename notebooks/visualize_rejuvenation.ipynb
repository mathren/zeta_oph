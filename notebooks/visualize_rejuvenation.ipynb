{
 "cells": [
  {
   "cell_type": "markdown",
   "id": "b23edac7-f241-4109-8c5f-7edcf3f3b7d6",
   "metadata": {},
   "source": [
    "# Visualize rejuvenation in the core using $\\zeta$ Ophiuchi's models\n",
    "author: [Mathieu Renzo](mailto:mrenzo@flatironinstitute.org)"
   ]
  },
  {
   "cell_type": "markdown",
   "id": "309abf29-5205-485b-9610-f0c8cb723883",
   "metadata": {},
   "source": [
    "We will compare the mass-fraction profile of $^1\\mathrm{H}$ in an\n",
    "accretor star going from $17\\rightarrow 20\\,M_\\o dot$during Roche lobe\n",
    "overflow. The models are from [Renzo & Gotbergo\n",
    "2021](https://ui.adsabs.harvard.edu/abs/2021ApJ...923..277R/abstract).\n",
    "\n",
    "We chose a single star of the same total post-RLOF mass as in [Renzo et al. 2022](https://ui.adsabs.harvard.edu/abs/2022arXiv220615338R/abstract)"
   ]
  },
  {
   "cell_type": "code",
   "execution_count": null,
   "id": "ee20058c-2ccf-450c-8f7d-0f543e90b062",
   "metadata": {},
   "outputs": [],
   "source": [
    "import sys\n",
    "# the line below import stuff from git@github.com:mathren90/plotFunc.git\n",
    "sys.path.append('/mnt/home/mrenzo/codes/python_stuff/plotFunc/')\n",
    "from MESAreader import *\n",
    "import matplotlib.pyplot as plt\n",
    "%matplotlib inline\n",
    "from plot_defaults import *\n",
    "# plot_aux defines many auxiliary functions to make plots\n",
    "from plot_aux import *\n"
   ]
  },
  {
   "cell_type": "code",
   "execution_count": null,
   "id": "36b1469e-3e07-4ef3-b03b-48a9903d7e16",
   "metadata": {},
   "outputs": [],
   "source": [
    "set_plot_defaults_from_matplotlibrc('./')"
   ]
  },
  {
   "cell_type": "code",
   "execution_count": null,
   "id": "9071801d-2f3b-4f10-8051-1cbd17b5efa4",
   "metadata": {},
   "outputs": [],
   "source": [
    "bin_folder = \"/mnt/home/mrenzo/ceph/RESULTS/zeta_oph/zeta_ophiuchi/M1_25_M2_17_P100_Z0.01/re-run_exponential/\"\n",
    "acc_folder = bin_folder+'/binary_to_postRLOF/LOGS2/'\n",
    "acc_post_RLOF = bin_folder+'/accretor_to_TAMS/LOGS/'\n",
    "single_folder = \"/mnt/home/mrenzo/ceph/RESULTS/zeta_oph/zeta_ophiuchi/single_star/Z0.01/20/non_rot/LOGS/\""
   ]
  },
  {
   "cell_type": "code",
   "execution_count": null,
   "id": "d7ea4c60-ceac-4d87-a473-e8e949289274",
   "metadata": {},
   "outputs": [],
   "source": [
    "accretor_pfiles = sorted(glob.glob(acc_folder+\"profile*.data\"), key=get_age_from_profile)+\\\n",
    "    sorted(glob.glob(acc_post_RLOF+'profile*.data'), key=get_age_from_profile)\n",
    "print(len(accretor_pfiles))\n",
    "\n",
    "single_pfiles = sorted(glob.glob(single_folder+\"/profile*.data\"), key=get_age_from_profile)\n",
    "print(len(single_pfiles))"
   ]
  },
  {
   "cell_type": "code",
   "execution_count": null,
   "id": "5c6402e3-71a4-4872-8465-20c0af36b100",
   "metadata": {},
   "outputs": [],
   "source": [
    "# get RLOF phase\n",
    "bsrc, bcol = getSrcCol(acc_folder+\"/../binary_history.data\")\n",
    "iRLOF = (bsrc[:, bcol.index(\"rl_relative_overflow_1\")] >0)\n",
    "tRLOF = bsrc[iRLOF, bcol.index(\"age\")]\n",
    "tRLOF_start = min(tRLOF)\n",
    "tRLOF_end = max(tRLOF)\n",
    "src_2, col_2 = getSrcCol(acc_post_RLOF+'/history.data')\n",
    "tTAMS_acc = max(src_2[:, col_2.index('star_age')])\n",
    "print(tRLOF_start/1e6, tRLOF_end/1e6)"
   ]
  },
  {
   "cell_type": "code",
   "execution_count": null,
   "id": "1e63a15b-d47d-464a-bdeb-f8ced8f92432",
   "metadata": {},
   "outputs": [],
   "source": [
    "cmap1, vmin1, vmax1, norm1, cmap2, vmin2, vmax2, norm2, cmap3, vmin3, vmax3, norm3 = get_three_colormaps(tRLOF_start,\n",
    "                                                                                                         tRLOF_end,\n",
    "                                                                                                         tTAMS_acc)"
   ]
  },
  {
   "cell_type": "code",
   "execution_count": null,
   "id": "28853e49-b754-49eb-b95f-0f9fdda9d728",
   "metadata": {},
   "outputs": [],
   "source": [
    "def plot_H_mass(pfile, ax, **plot_kwargs):\n",
    "    \"\"\" plot mass fraction profile from profile*.data\"\"\"\n",
    "    src, col = getSrcCol(pfile)\n",
    "    h1 = src[:, col.index(\"h1\")]\n",
    "    m = src[:, col.index(\"mass\")]\n",
    "    line = ax.plot(m, h1, **plot_kwargs)\n",
    "    return line    "
   ]
  },
  {
   "cell_type": "code",
   "execution_count": null,
   "id": "a9e26553-99b1-4596-b4c6-ce5ea6fa6fd1",
   "metadata": {},
   "outputs": [],
   "source": [
    "fig = plt.figure(figsize=(10,10))\n",
    "gs = gridspec.GridSpec(120, 100)\n",
    "ax1 = fig.add_subplot(gs[:,:])\n",
    "ax1.set_xlabel(r\"$Mass \\ [M_\\odot]$\")\n",
    "ax1.set_ylabel(r\"$\\mathrm{Mass\\ fraction}\\ X(^1\\mathrm{H})$\")\n",
    "ax1.set_ylim(0, 1)\n",
    "ax1.set_xlim(0, 21.5)\n",
    "ax1.text(4.2, 1.03, r\"$\\leftarrow$ center\", transform=ax1.transData, fontsize=25, color=\"#808080\", ha=\"right\", va=\"center\")\n",
    "ax1.text(17, 1.03, r\"surface $\\rightarrow$\", transform=ax1.transData, fontsize=25, color=\"#808080\", ha=\"left\", va=\"center\")\n",
    "\n",
    "\n",
    "# single stars\n",
    "# legend\n",
    "ax1.plot(np.nan, np.nan, c='k', ls='--', lw=2, label=r\"single $20\\,M_\\odot$\")\n",
    "ax1.legend()\n",
    "\n",
    "colors = plt.cm.viridis(np.linspace(0.2,1,6))\n",
    "to_plot = single_pfiles[::20]+[single_pfiles[-1]]\n",
    "for p in to_plot:\n",
    "    i = to_plot.index(p)\n",
    "    line = plot_H_mass(p, ax1, ls='--', lw=2, color=colors[i], zorder=10)\n",
    "    age = get_age_from_profile(p)\n",
    "    age_label = ax1.text(0.8, 0.2, f\"{age:.5f}\"+r\"$\\,\\mathrm{Myr}$\", fontsize=30, va=\"center\", ha=\"center\", transform=ax1.transAxes, color=colors[i])\n",
    "    plt.savefig(\"/mnt/home/mrenzo/TMP/rejuvenation_plots/\"+f\"{i:04d}\"+\"single_only.png\")\n",
    "    plt.savefig(\"/mnt/home/mrenzo/TMP/rejuvenation_plots/\"+f\"{i:04d}\"+\"single_only.pdf\")\n",
    "    age_label.set_visible(False)\n",
    "    \n",
    "ax1.plot(np.nan, np.nan, c='orange', ls='-', lw=5, label=r\"accretor $17\\rightarrow 20\\,M_\\odot$\")\n",
    "ax1.legend()\n",
    "\n",
    "# to_plot = [acc_folder+'/profile500.data',\n",
    "#            acc_folder+'/profile3850.data',\n",
    "#            acc_folder+'/profile6500.data',\n",
    "#            acc_post_RLOF+'/profile496.data',\n",
    "#            acc_post_RLOF+'/profile893.data']\n",
    "to_plot = [accretor_pfiles[0]]+accretor_pfiles[::1000]+[accretor_pfiles[-1]]\n",
    "for p in to_plot:\n",
    "    i = to_plot.index(p)\n",
    "    line = plot_H_mass(p, ax1, ls='-', lw=5, color=\"orange\", zorder=1)\n",
    "    age = get_age_from_profile(p)\n",
    "    age_label = ax1.text(0.8, 0.2, f\"{age:.5f}\"+r\"$\\,\\mathrm{Myr}$\", fontsize=30, va=\"center\", ha=\"center\", transform=ax1.transAxes, color=\"orange\")\n",
    "    if (i !=0) and (i != len(to_plot)-1):\n",
    "        plt.savefig(\"/mnt/home/mrenzo/TMP/rejuvenation_plots/\"+f\"{i:04d}\"+\"acc.png\")\n",
    "        plt.savefig(\"/mnt/home/mrenzo/TMP/rejuvenation_plots/\"+f\"{i:04d}\"+\"acc.pdf\")\n",
    "    elif i ==0:\n",
    "        plt.savefig(\"/mnt/home/mrenzo/TMP/rejuvenation_plots/0000acc_ZAMS.png\")\n",
    "        plt.savefig(\"/mnt/home/mrenzo/TMP/rejuvenation_plots/0000acc_ZAMS.pdf\")\n",
    "    else:\n",
    "        plt.savefig(\"/mnt/home/mrenzo/TMP/rejuvenation_plots/0000acc_TAMS.png\")\n",
    "        plt.savefig(\"/mnt/home/mrenzo/TMP/rejuvenation_plots/0000acc_TAMS.pdf\")\n",
    "\n",
    "    line.pop(0).remove()\n",
    "    age_label.set_visible(False)\n"
   ]
  },
  {
   "cell_type": "markdown",
   "id": "70838487-4151-4063-8f7e-7697fd1407b3",
   "metadata": {},
   "source": [
    "# development plots"
   ]
  },
  {
   "cell_type": "code",
   "execution_count": null,
   "id": "cc8c5bd5-9a01-4a24-be9f-0b7876a5ab6f",
   "metadata": {},
   "outputs": [],
   "source": [
    "def plot_rho_mass(pfile, ax, **plot_kwargs):\n",
    "    \"\"\" plot density profile from profile*.data\"\"\"\n",
    "    src, col = getSrcCol(pfile)\n",
    "    log_rho = src[:, col.index(\"logRho\")]\n",
    "    rho = 10.**log_rho\n",
    "    m = src[:, col.index(\"mass\")]\n",
    "    line = ax.plot(m, rho, **plot_kwargs)\n",
    "    return line\n"
   ]
  },
  {
   "cell_type": "code",
   "execution_count": null,
   "id": "28446695-e558-40f9-99f9-57762369e8e8",
   "metadata": {},
   "outputs": [],
   "source": [
    "fig = plt.figure(figsize=(15,10))\n",
    "gs = gridspec.GridSpec(100, 100)\n",
    "ax2 = fig.add_subplot(gs[:50,:])\n",
    "ax1 = fig.add_subplot(gs[50:,:])\n",
    "ax1.set_xlabel(r\"$Mass \\ [M_\\odot]$\")\n",
    "ax1.set_ylabel(r\"$X(^1\\mathrm{H})$\")\n",
    "ax2.set_ylabel(r\"$\\rho \\ [\\mathrm{g\\ cm^{-3}}]$\")\n",
    "ax1.set_ylim(0, 1)\n",
    "ax1.set_xlim(0, 21.5)\n",
    "ax2.set_ylim(ymin=1e-12, ymax=1e3)\n",
    "ax2.set_yscale('log')\n",
    "ax2.set_xlim(0, 21.5)\n",
    "ax2.text(4.2, 2.05, r\"$\\leftarrow$ center\", transform=ax1.transData, fontsize=25, color=\"#808080\", ha=\"right\", va=\"center\")\n",
    "ax2.text(17, 2.05, r\"surface $\\rightarrow$\", transform=ax1.transData, fontsize=25, color=\"#808080\", ha=\"left\", va=\"center\")\n",
    "ax2.set_xticklabels([])\n",
    "ax1.set_yticks([0, 0.2, 0.4, 0.6, 0.8])\n",
    "ax1.set_yticks([0.1, 0.3, 0.5, 0.7, 0.9], minor=True)\n",
    "# inset plot\n",
    "zx = inset_axes(ax2, 8, 2, bbox_to_anchor=(17,5e-2),\n",
    "                bbox_transform=ax2.transData)\n",
    "\n",
    "\n",
    "\n",
    "\n",
    "# single stars\n",
    "# legend\n",
    "ax1.plot(np.nan, np.nan, c='k', ls='--', lw=2, label=r\"single $20\\,M_\\odot$\")\n",
    "ax1.legend(ncol=2,loc=\"upper right\")\n",
    "\n",
    "colors = plt.cm.viridis(np.linspace(0,1,6))\n",
    "to_plot = single_pfiles[::20]+[single_pfiles[-1]]\n",
    "for p in to_plot:\n",
    "    i = to_plot.index(p)\n",
    "    plot_H_mass(p, ax1, ls='--', lw=2, color=colors[i], zorder=10)\n",
    "    plot_rho_mass(p, ax2, ls='--', lw=2, color=colors[i], zorder=10)\n",
    "    plt.savefig(\"/mnt/home/mrenzo/TMP/rejuvenation_plots/\"+f\"{i:04d}\"+\"rho_X_single_only.png\")\n",
    "\n",
    "ax1.plot(np.nan, np.nan, c='orange', ls='-', label=r\"accretor $17\\rightarrow 20\\,M_\\odot$\")\n",
    "ax1.legend(ncol=2,loc=\"upper right\")\n",
    "\n",
    "# to_plot = [acc_folder+'/profile500.data',\n",
    "#            acc_folder+'/profile3850.data',\n",
    "#            acc_folder+'/profile6500.data',\n",
    "#            acc_post_RLOF+'/profile496.data',\n",
    "#            acc_post_RLOF+'/profile893.data']\n",
    "to_plot = accretor_pfiles[::1000]\n",
    "for p in to_plot:\n",
    "    i = to_plot.index(p)\n",
    "    line = plot_H_mass(p, ax1, ls='-', color=\"orange\", zorder=1)\n",
    "    line_rho = plot_rho_mass(p, ax2, ls='--', lw=2, color=\"orange\", zorder=10)\n",
    "    line_rho_inset = plot_rho_mass(p, zx, ls='--', lw=2, color=\"orange\", zorder=10)\n",
    "    age = get_age_from_profile(p)\n",
    "    age_label = ax1.text(0.8, 0.2, f\"{age:.5f}\"+r\"$\\,\\mathrm{Myr}$\", fontsize=30, va=\"center\", ha=\"center\", transform=ax1.transAxes, color=\"orange\")\n",
    "    plt.savefig(\"/mnt/home/mrenzo/TMP/rejuvenation_plots/\"+f\"{i:04d}\"+\"rho_X_acc.png\")\n",
    "    line.pop(0).remove()\n",
    "    line_rho.pop(0).remove()\n",
    "    line_rho_inset.pop(0).remove()\n",
    "    age_label.set_visible(False)\n",
    "\n"
   ]
  },
  {
   "cell_type": "code",
   "execution_count": null,
   "id": "93d62c36-a11e-41a6-98ab-f4a61d9a8fc1",
   "metadata": {},
   "outputs": [],
   "source": [
    "print(type(zx))"
   ]
  }
 ],
 "metadata": {
  "kernelspec": {
   "argv": [
    "/mnt/home/mrenzo/anaconda3/envs/py3/bin/python",
    "-m",
    "ipykernel_launcher",
    "-f",
    "{connection_file}"
   ],
   "display_name": "Python 3 (ipykernel)",
   "env": null,
   "interrupt_mode": "signal",
   "language": "python",
   "metadata": {
    "debugger": true
   },
   "name": "python3"
  },
  "name": "visualize_rejuvenation.ipynb"
 },
 "nbformat": 4,
 "nbformat_minor": 2
}
