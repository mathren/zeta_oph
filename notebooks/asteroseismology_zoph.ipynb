{
 "cells": [
  {
   "cell_type": "markdown",
   "metadata": {},
   "source": [
    "# Asteroseismology of $\\zeta$ Ophiuchi\n",
    "author:  [Mathieu Renzo](mailto:mrenzo@flatironinstitute.org)"
   ]
  },
  {
   "cell_type": "code",
   "execution_count": null,
   "metadata": {},
   "outputs": [],
   "source": [
    "import sys\n",
    "# the line below import stuff from git@github.com:mathren90/plotFunc.git\n",
    "sys.path.append('/mnt/home/mrenzo/codes/python_stuff/plotFunc/')\n",
    "from MESAreader import *\n",
    "import matplotlib.pyplot as plt\n",
    "%matplotlib inline\n",
    "from plotDefaults import *\n",
    "# plot_aux defines many auxiliary functions to make plots\n",
    "from plot_aux import *\n",
    "from joblib import Parallel, delayed"
   ]
  },
  {
   "cell_type": "code",
   "execution_count": null,
   "metadata": {},
   "outputs": [],
   "source": [
    "# set_plotDefaults()\n",
    "set_plot_defaults_from_matplotlibrc('/mnt/home/mrenzo/codes/python_stuff/plotFunc/')"
   ]
  },
  {
   "cell_type": "code",
   "execution_count": null,
   "metadata": {},
   "outputs": [],
   "source": [
    "# root folder for best model\n",
    "folder = \"/mnt/ceph/users/mrenzo/RESULTS/zeta_ophiuchi/M1_25_M2_17_P100_Z0.01/re-run_exponential/\"\n",
    "binary = folder+\"/binary_to_postRLOF/\"\n",
    "accretor = folder+\"/accretor_to_TAMS/\"\n",
    "dhfile = binary+\"/LOGS1/history.data\"\n",
    "hfile1 = binary+'/LOGS2/history.data'\n",
    "hfile2 = accretor+'/LOGS/history.data'\n",
    "bfile = binary+'/binary_history.data'\n",
    "model_name = folder.split('/')[-2].replace('_','\\_')\n",
    "profiles = sorted(glob.glob(binary+'LOGS2/profile*.data'))+sorted(glob.glob(accretor+'LOGS/profile*.data'))\n",
    "print(model_name)"
   ]
  },
  {
   "cell_type": "code",
   "execution_count": null,
   "metadata": {},
   "outputs": [],
   "source": [
    "def get_lamb_S(pfile):\n",
    "    \"\"\" calculate the lamb frequency for l=1 modes \"\"\"\n",
    "    src, col = getSrcCol(pfile)\n",
    "    csound = src[:, col.index(\"csound\")] # cm/s\n",
    "    r = np.log10(10.**(src[:, col.index(\"logR\")])*Rsun_cm) # cm\n",
    "    lamb_S = np.sqrt(2)*csound/r\n",
    "    return lamb_S"
   ]
  },
  {
   "cell_type": "code",
   "execution_count": null,
   "metadata": {},
   "outputs": [],
   "source": [
    "def propagation_plot(pfile, ax=\"\", legend=True, fname=\"\"):\n",
    "    \"\"\" make a propagation plot for waves in stars \"\"\"\n",
    "    if ax == \"\":\n",
    "        fig = plt.figure(figsize=(10,10))\n",
    "        gs = gridspec.GridSpec(100, 100)\n",
    "        ax = fig.add_subplot(gs[:, :])   \n",
    "    src, col = getSrcCol(pfile)\n",
    "    N2 = src[:, col.index(\"brunt_N2\")]\n",
    "    brunt_N2_structure_term = src[:, col.index(\"brunt_N2_structure_term\")]\n",
    "    brunt_N2_composition_term = src[:, col.index(\"brunt_N2_composition_term\")]\n",
    "    # brunt_A = src[:, col.index(\"brunt_A\")]\n",
    "    # brunt_A_div_x2 = src[:, col.index(\"brunt_A_div_x2\")]\n",
    "    # brunt_B = src[:, col.index(\"brunt_B\")]\n",
    "    # brunt_nonB = src[:, col.index(\"brunt_nonB\")]\n",
    "    # log_brunt_B = src[:, col.index(\"log_brunt_B\")]\n",
    "    # log_brunt_nonB = src[:, col.index(\"log_brunt_nonB\")]\n",
    "    r = np.log10(10.**(src[:, col.index(\"logR\")])*Rsun_cm)\n",
    "    # g-modes\n",
    "    ax.plot(r, N2,lw=10, label=\"$N^2$\")     \n",
    "    ax.plot(r, brunt_N2_structure_term, label=\"$\\mathrm{struct}$\")\n",
    "    ax.plot(r, brunt_N2_composition_term, label=\"$\\mathrm{composition}$\")\n",
    "    # p-modes\n",
    "    # S = get_lamb_S(pfile)\n",
    "    # S2 = S*S\n",
    "    # print(min(S), max(S))\n",
    "    # ax.plot(r, S2,lw=3,ls='--', c='k', label=\"$S^2$\")    \n",
    "    ax.set_yscale('log')\n",
    "    ax.set_xlabel(r\"$\\log_{10}(r/ \\mathrm{[cm]})$\")\n",
    "    ax.set_ylabel(r\"$\\mathrm{Frequency^2\\ [Hz^2]}$\")\n",
    "    age = get_age_from_profile(pfile)\n",
    "    timestamp = f\"${age:.6f}\"+r\"\\,\\mathrm{Myr}$\"\n",
    "    ax.text(0.05,0.1, timestamp, fontsize=30, va=\"center\",\n",
    "            transform=ax.transAxes, bbox=dict(facecolor='w',\n",
    "                                              edgecolor='black', boxstyle='round,pad=0.2', alpha=0.9))\n",
    "    ax.set_ylim(ymin=1e-9, ymax=1e-3)\n",
    "    ax.set_xlim(xmin=8, xmax=13)\n",
    "    if legend:\n",
    "        ax.legend(loc=\"upper left\")\n",
    "    if fname != \"\":\n",
    "        plt.savefig(fname)\n",
    "        plt.close()\n",
    "# test\n",
    "propagation_plot(profiles[0])"
   ]
  },
  {
   "cell_type": "code",
   "execution_count": null,
   "metadata": {},
   "outputs": [],
   "source": [
    "def wrapper(pfile, folder):\n",
    "    set_plot_defaults_from_matplotlibrc('/mnt/home/mrenzo/codes/python_stuff/plotFunc/')\n",
    "    modnum = get_modnum_from_profile(pfile)\n",
    "    fname = folder+\"/propagation_plots/prop\"+f\"{modnum:06d}\"+\".png\"\n",
    "    # print(fname)\n",
    "    propagation_plot(pfile, legend=True, fname=fname)\n",
    "\n",
    "Parallel(n_jobs=20)(delayed(wrapper)(pfile, folder) for pfile in sorted(profiles, key=get_modnum_from_profile))"
   ]
  },
  {
   "cell_type": "code",
   "execution_count": null,
   "metadata": {},
   "outputs": [],
   "source": [
    "fig = plt.figure(figsize=(10,25))\n",
    "gs = gridspec.GridSpec(150, 100)\n",
    "ax5 = fig.add_subplot(gs[:30, :])\n",
    "ax4 = fig.add_subplot(gs[30:60, :])\n",
    "ax3 = fig.add_subplot(gs[60:90, :])\n",
    "ax2 = fig.add_subplot(gs[90:120, :])\n",
    "ax1 = fig.add_subplot(gs[120:, :])\n",
    "\n",
    "axes = [ax1, ax2, ax3, ax4, ax5]\n",
    "\n",
    "root = \"/mnt/home/mrenzo/RUNS/zeta_ophiuchi/M1_25_M2_17_P100_Z0.01/re-run_exponential/\"\n",
    "\n",
    "LOGS = root+\"binary_to_postRLOF/LOGS2/\"\n",
    "LOGS_single = root+\"accretor_to_TAMS/LOGS/\" \n",
    "\n",
    "profiles =  [LOGS+\"profile10.data\",\n",
    "             LOGS+\"profile78.data\",\n",
    "             LOGS+\"profile131.data\",\n",
    "             LOGS_single+\"profile496.data\",\n",
    "             LOGS_single+\"profile893.data\"]\n",
    "\n",
    "# revert order to get from top to bottom\n",
    "profiles = profiles[::-1]\n",
    "\n",
    "for pfile in profiles:\n",
    "    legend = False\n",
    "    ax_to_use = axes[profiles.index(pfile)]\n",
    "    if ax_to_use == ax5:\n",
    "        legend = True\n",
    "    propagation_plot(pfile, ax=ax_to_use, legend=legend)    \n",
    "\n",
    "\n",
    "ax1.set_xlabel(r\"$\\log_{10}(r/ \\mathrm{[cm]})$\")\n",
    "# ax1.set_ylim(10**1, 10**18)\n",
    "ax1.set_xlim(10.5,12)\n",
    "# ax3.set_ylabel(r\"$\\log_{10}(D / \\mathrm{[cm^2\\ s^{-1}]})$\")\n",
    "for ax in axes:\n",
    "    if ax != ax1:\n",
    "        ax.set_xticklabels([])\n",
    "    ax.set_ylim(ax1.get_ylim())\n",
    "    ax.set_xlim(10.5,12)\n",
    "    ax.set_ylabel(r\"$\\mathrm{Frequency^2\\ [Hz^2]}$\")\n",
    "    # ax.set_yticks([100, 1000, 1e4, 1e5, 1e6, 1e7,1e8,1e9,1e10,1e11,1e12,1e13,1e14, 1e15, 1e16,1e17], minor=True)\n",
    "    # ax.set_yticklabels([], minor=True)\n",
    "\n",
    "# plt.savefig('/mnt/home/mrenzo/TMP/frequencies_zoom.png')\n",
    "    "
   ]
  }
 ],
 "metadata": {
  "kernelspec": {
   "argv": [
    "/mnt/home/mrenzo/anaconda3/envs/py3/bin/python",
    "-m",
    "ipykernel_launcher",
    "-f",
    "{connection_file}"
   ],
   "display_name": "Python 3 (ipykernel)",
   "env": null,
   "interrupt_mode": "signal",
   "language": "python",
   "metadata": {
    "debugger": true
   },
   "name": "python3"
  },
  "name": "asteroseismology_zoph.ipynb"
 },
 "nbformat": 4,
 "nbformat_minor": 2
}
