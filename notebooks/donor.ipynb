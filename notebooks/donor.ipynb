{
 "cells": [
  {
   "cell_type": "markdown",
   "id": "8af07775-c6b3-4384-9c95-988f4a36ed33",
   "metadata": {},
   "source": [
    "# Properties of the donor during mass transfer\n",
    "author: [Mathieu Renzo](mailto:mrenzo@flatironinstitute.org)"
   ]
  },
  {
   "cell_type": "markdown",
   "id": "3e5066a6-f68d-4d4a-9e0b-8c246113f536",
   "metadata": {},
   "source": [
    "Study the donor during RLOF"
   ]
  },
  {
   "cell_type": "code",
   "execution_count": null,
   "id": "70dd6012-6d74-4c6d-9148-ba4a5d73a6ee",
   "metadata": {},
   "outputs": [],
   "source": [
    "import sys\n",
    "# the line below import stuff from git@github.com:mathren90/plotFunc.git\n",
    "sys.path.append('/mnt/home/mrenzo/codes/python_stuff/plotFunc/')\n",
    "from MESAreader import *\n",
    "import matplotlib.pyplot as plt\n",
    "%matplotlib inline\n",
    "from plot_defaults import *\n",
    "# plot_aux defines many auxiliary functions to make plots\n",
    "from plot_aux import *\n",
    "from lib_pre_RLOF import *"
   ]
  },
  {
   "cell_type": "code",
   "execution_count": null,
   "id": "f354ce96-dabb-43d2-81af-d0fb63b9b0fa",
   "metadata": {},
   "outputs": [],
   "source": [
    "set_plot_defaults_from_matplotlibrc('./')"
   ]
  },
  {
   "cell_type": "code",
   "execution_count": null,
   "id": "4abdb894-6e23-4ac7-bfe0-cc34564df8c5",
   "metadata": {},
   "outputs": [],
   "source": [
    "bin_folder = \"/mnt/home/mrenzo/ceph/RESULTS/zeta_oph/zeta_ophiuchi/M1_25_M2_17_P100_Z0.01/re-run_exponential/\"\n",
    "acc_folder = bin_folder+'/binary_to_postRLOF/LOGS2/'\n",
    "acc_post_RLOF = bin_folder+'/accretor_to_TAMS/LOGS/'\n",
    "donor_folder = bin_folder+'binary_to_postRLOF/LOGS1/'"
   ]
  },
  {
   "cell_type": "code",
   "execution_count": null,
   "id": "f9b798ea-3d55-4a10-a248-939893644458",
   "metadata": {},
   "outputs": [],
   "source": [
    "bsrc, bcol = getSrcCol(acc_folder+\"/../binary_history.data\")\n",
    "iRLOF = (bsrc[:, bcol.index(\"rl_relative_overflow_1\")] >0)\n",
    "tRLOF = bsrc[iRLOF, bcol.index(\"age\")]\n",
    "tRLOF_start = min(tRLOF)\n",
    "tRLOF_end = max(tRLOF)\n",
    "src_2, col_2 = getSrcCol(acc_post_RLOF+'/history.data')\n",
    "tTAMS_acc = max(src_2[:, col_2.index('star_age')])\n",
    "print(tRLOF_start/1e6, tRLOF_end/1e6)"
   ]
  },
  {
   "cell_type": "markdown",
   "id": "04c95ac5-e5fd-4536-a2c2-d75b02753d5e",
   "metadata": {},
   "source": [
    "## binary separation"
   ]
  },
  {
   "cell_type": "code",
   "execution_count": null,
   "id": "8c15ae83-7708-4388-8960-bf4a7dab4990",
   "metadata": {},
   "outputs": [],
   "source": [
    "fig = plt.figure(figsize=(10,10))\n",
    "gs = gridspec.GridSpec(120, 100)\n",
    "ax = fig.add_subplot(gs[:,:])\n",
    "ax2 = ax.twinx()\n",
    "# top_ax = fig.add_subplot(gs[:20,:])\n",
    "# top_ax.set_xticklabels([])\n",
    "\n",
    "\n",
    "model_number = bsrc[:, bcol.index(\"model_number\")]\n",
    "iRLOF_start = int(min(model_number[iRLOF]))\n",
    "separation = bsrc[iRLOF_start, bcol.index(\"binary_separation\")]*Rsun_cm/1e10\n",
    "rl_1 = bsrc[iRLOF_start, bcol.index(\"rl_1\")]*Rsun_cm/1e10\n",
    "rl_2 = bsrc[iRLOF_start, bcol.index(\"rl_2\")]*Rsun_cm/1e10\n",
    "ax.set_xlim(-1.5*rl_1, separation+1.1*rl_2)\n",
    "# top_ax.set_xlim(ax.get_xlim())\n",
    "ax.set_xlabel(r\"$x \\ [10^{10}\\, cm]$\")\n",
    "ax.set_ylabel(r\"solid lines: $\\log_{10}(\\rho/\\mathrm{[g\\ cm^{-3}]})$\")\n",
    "ax2.set_ylabel(r\"dashed lines: $\\log_{10}(H_p/\\mathrm{[g\\ cm^{-3}]})$\")\n",
    "#highlight roche lobes\n",
    "ax.axvspan(-rl_1, rl_1, color=\"r\", alpha=0.2)\n",
    "ax.text(0, -10.5, \"$\\mathrm{RL}_\\mathrm{donor}$\", fontsize=30, transform=ax.transData, ha=\"center\")    \n",
    "\n",
    "ax.axvspan(separation-rl_2, separation+rl_2, color=\"b\", alpha=0.2)\n",
    "ax.text(separation, -10.5, \"$\\mathrm{RL}_\\mathrm{accretor}$\", fontsize=30, transform=ax.transData, ha=\"center\")    \n",
    "\n",
    "ax.plot([0, separation], [0.5,0.5], lw=5, c='k', ls='--')\n",
    "ax.text(1000,0.51, r\"$a=\"+f\"{separation:.0f}\"+r\"\\,\\times10^{10}\\,\\mathrm{cm}$\", transform=ax.transData, va=\"bottom\", ha=\"center\", fontsize=30)\n",
    "\n",
    "# plot density profiles\n",
    "\n",
    "# donor\n",
    "pfile_donor = donor_folder+'profile38.data'\n",
    "src, col = getSrcCol(pfile_donor)\n",
    "log_rho_donor = src[:, col.index(\"logRho\")]\n",
    "r_donor = src[:, col.index(\"radius\")]*Rsun_cm/1e10\n",
    "# x_donor = r_donor-rl_1 # 10^10cm units\n",
    "ax.plot(r_donor, log_rho_donor, c=\"red\")\n",
    "ax.plot(-r_donor, log_rho_donor, c=\"red\")\n",
    "H_donor = get_pressure_scale_height(pfile_donor)\n",
    "ax2.plot(r_donor, np.log10(H_donor), c=\"red\", ls='--')\n",
    "ax2.plot(-r_donor, np.log10(H_donor), c=\"red\", ls='--')\n",
    "# ratio = H_donor/max(r_donor)\n",
    "# top_ax.plot(r_donor, ratio, c='r')\n",
    "# top_ax.plot(-r_donor, ratio, c='r')\n",
    "\n",
    "\n",
    "# # accretor\n",
    "pfile_accretor = acc_folder+'/profile3573.data'\n",
    "src, col = getSrcCol(pfile_accretor)\n",
    "log_rho_accretor = src[:, col.index(\"logRho\")]\n",
    "r_accretor = src[:, col.index(\"radius\")]*Rsun_cm/1e10\n",
    "ax.plot(r_accretor+separation, log_rho_accretor, c=\"b\")\n",
    "ax.plot(separation-r_accretor, log_rho_accretor, c=\"b\")\n",
    "H_accretor = get_pressure_scale_height(pfile_accretor)\n",
    "ax2.plot(r_accretor+separation, np.log10(H_accretor), c=\"b\", ls='--')\n",
    "ax2.plot(separation-r_accretor, np.log10(H_accretor), c=\"b\", ls='--')\n",
    "# ratio = H_accretor/max(r_accretor)\n",
    "# top_ax.plot(separation+r_accretor, ratio, c='b')\n",
    "# top_ax.plot(separation-r_accretor, ratio, c='b')\n",
    "\n",
    "# top_ax.set_ylabel(r\"$H_p/R_{\\star}$\")\n",
    "# top_ax.set_ylim(0, 1)\n"
   ]
  },
  {
   "cell_type": "markdown",
   "id": "49969a08-d19f-4469-b83f-073bd5a8b884",
   "metadata": {},
   "source": [
    "From the visualization above, we conclude that:\n",
    "- the full domain for the RLOF stream is $8\\times\n",
    "  10^{12}\\,\\mathrm{cm}< x < 2.5\\times 10^{13}\\,\\mathrm{cm}$, this\n",
    "  includes the surface layers of the donor, the separation, and parts\n",
    "  of the accretor's envelope\n",
    "- the pressure scale height is of order $3\\times 10^{12}\\,\\mathrm{cm}$\n",
    "  at the edge of the domain\n",
    "- assuming we need 10 mesh points to resolve the scale height, it\n",
    "  means $\\Delta x \\simeq 3\\times10^{11}\\,\\mathrm{cm}$ so maybe we\n",
    "  cannot do all in one piece."
   ]
  },
  {
   "cell_type": "markdown",
   "id": "90236060-da99-43cc-87a9-696464fc5274",
   "metadata": {},
   "source": [
    "## radius and structure at onset of RLOF"
   ]
  },
  {
   "cell_type": "code",
   "execution_count": null,
   "id": "3a7211f1-e93b-48b0-adc5-1a9ce9f7eab5",
   "metadata": {},
   "outputs": [],
   "source": [
    "pfile = donor_folder+'profile38.data'\n",
    "plot_rho_Hp_mass(pfile, X_onset=1e-4)\n",
    "plot_rho_Hp_radius(pfile, X_onset=0.42)"
   ]
  }
 ],
 "metadata": {
  "kernelspec": {
   "argv": [
    "/mnt/home/mrenzo/anaconda3/envs/py3/bin/python",
    "-m",
    "ipykernel_launcher",
    "-f",
    "{connection_file}"
   ],
   "display_name": "Python 3 (ipykernel)",
   "env": null,
   "interrupt_mode": "signal",
   "language": "python",
   "metadata": {
    "debugger": true
   },
   "name": "python3"
  },
  "name": "donor.ipynb"
 },
 "nbformat": 4,
 "nbformat_minor": 2
}
