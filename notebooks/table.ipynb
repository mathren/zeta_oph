{
 "cells": [
  {
   "cell_type": "markdown",
   "metadata": {},
   "source": [
    "# Make table comparing with observations\n",
    "author: [Mathieu Renzo](mrenzo@flatironinstitute.org)"
   ]
  },
  {
   "cell_type": "code",
   "execution_count": null,
   "metadata": {},
   "outputs": [],
   "source": [
    "import sys\n",
    "# the line below import stuff from git@github.com:mathren90/plotFunc.git\n",
    "sys.path.append('/mnt/home/mrenzo/codes/python_stuff/plotFunc/')\n",
    "from MESAreader import *\n",
    "import matplotlib.pyplot as plt\n",
    "%matplotlib inline\n",
    "from plotDefaults import *\n",
    "# plot_aux defines many auxiliary functions to make plots\n",
    "from plot_aux import *"
   ]
  },
  {
   "cell_type": "code",
   "execution_count": null,
   "metadata": {},
   "outputs": [],
   "source": [
    "set_plotDefaults()"
   ]
  },
  {
   "cell_type": "code",
   "execution_count": null,
   "metadata": {},
   "outputs": [],
   "source": [
    "# root folder for best model\n",
    "folder = \"/mnt/home/mrenzo/RUNS/zeta_ophiuchi/M1_25_M2_17_P100_Z0.01/re-run_exponential/\"\n",
    "# folder = \"/mnt/home/mrenzo/RUNS/zeta_ophiuchi/M1_30_M2_17_P100_Z0.01/\"\n",
    "# folder = \"/mnt/home/mrenzo/RUNS/zeta_ophiuchi/M1_25_M2_17_P100_Z0.01/weak_wind/\"\n",
    "# folder = \"/mnt/home/mrenzo/RUNS/zeta_ophiuchi/M1_25_M2_17_P100_Z0.01/do_J_accretion/\"\n",
    "binary = folder+\"/binary_to_postRLOF/\"\n",
    "accretor = folder+\"/accretor_to_TAMS/\"\n",
    "dhfile = binary+\"/LOGS1/history.data\"\n",
    "hfile1 = binary+'/LOGS2/history.data'\n",
    "hfile2 = accretor+'/LOGS/history.data'\n",
    "bfile = binary+'/binary_history.data'\n",
    "model_name = folder.split('/')[-2].replace('_','\\_')\n",
    "print(model_name)"
   ]
  },
  {
   "cell_type": "code",
   "execution_count": null,
   "metadata": {},
   "outputs": [],
   "source": [
    "# select profile\n",
    "profiles = sorted(glob.glob(accretor+'/LOGS/profile*.data'))\n",
    "ages = np.array([get_age_from_profile(p) for p in profiles], dtype=float)"
   ]
  },
  {
   "cell_type": "code",
   "execution_count": null,
   "metadata": {},
   "outputs": [],
   "source": [
    "prof_index = np.argmin(np.absolute(ages-8.5))\n",
    "print(ages[prof_index])\n",
    "pfile = profiles[prof_index]"
   ]
  },
  {
   "cell_type": "code",
   "execution_count": null,
   "metadata": {},
   "outputs": [],
   "source": [
    "# based on the plot above, we can take the value in zone 1 as the surface value\n",
    "def get_data_from_pfile(pfile):\n",
    "    src, col = getSrcCol(pfile)\n",
    "    h1 = src[0, col.index('h1')]\n",
    "    he4 = src[0, col.index('he4')]\n",
    "    c12 = src[0, col.index('c12')]\n",
    "    n14 = src[0, col.index('n14')]\n",
    "    o16 = src[0, col.index('o16')]\n",
    "    radius = src[0, col.index(\"radius\")]\n",
    "    omega =  src[0, col.index(\"omega\")]\n",
    "    mass = src[0, col.index(\"mass\")]\n",
    "    vrot = (radius*Rsun_cm/1e5)*omega\n",
    "    omega = omega*24*60*60\n",
    "    return(mass, radius, omega, vrot, h1, he4, c12, n14, o16)"
   ]
  },
  {
   "cell_type": "code",
   "execution_count": null,
   "metadata": {},
   "outputs": [],
   "source": [
    "def mk_table(pfile, output=\"../manuscript/table.tex\"):\n",
    "    mass, radius, omega, vrot, h1, he4, c12, n14, o16 = get_data_from_pfile(pfile)\n",
    "    # define template\n",
    "    template = r\"\"\"\n",
    "    % this table was automatically generated using the table.ipynb in the repository associated to this manuscript\n",
    "    % the profile model summarized is from the post-RLOF evolution as single star and is NUMBER.data\n",
    "    \\begin{table*}[hbpt]\n",
    "        \\centering\n",
    "        \\begin{tabular}{c|c|c|c|c|c|c|c|c}\n",
    "            \\hline\\hline\n",
    "            $M \\ [M_\\odot]$ & $R\\ [R_\\odot]$ & $ \\omega \\ [\\mathrm{days^{-1}}]$ & $v_\\mathrm{rot} \\ [\\kms] $ & $X(^{1}\\mathrm{H})$ & $X(^{4}\\mathrm{He})$ & $X(^{12}\\mathrm{C})$ & $X(^{14}\\mathrm{N})$ & $X(^{16}\\mathrm{O})$ \\\\\n",
    "            \\hline\n",
    "            MASS & RADIUS & OMEGA & VROT & HYDROGEN & HE & CARBON & NITROGEN & OXYGEN \\\\\n",
    "            \\hline\n",
    "        \\end{tabular}\n",
    "        \\caption{Surface properties of the accretor close to the present-day HRD position of \\zoph,\n",
    "                corresponding to a physical age of $8.50$\\,Myr, shortly after the end of RLOF\n",
    "                (between the black diamond and the lower $T_\\mathrm{eff}$ estimate, third panel of \\Figref{fig:D_mix}).}\n",
    "        \\label{tab:surf_prop}\n",
    "    \\end{table*}\n",
    "    \"\"\"\n",
    "    template = template.replace(\"MASS\", f\"{mass:.1f}\")\n",
    "    template = template.replace(\"RADIUS\", f\"{radius:.1f}\")\n",
    "    template = template.replace(\"OMEGA\", f\"{omega:.3f}\")\n",
    "    template = template.replace(\"VROT\", f\"{vrot:.1f}\")\n",
    "    template = template.replace(\"HYDROGEN\", f\"{h1:.6f}\")\n",
    "    template = template.replace(\"HE\", f\"{he4:.6f}\")\n",
    "    template = template.replace(\"CARBON\", f\"{c12:.6f}\")\n",
    "    template = template.replace(\"NITROGEN\", f\"{n14:.6f}\")\n",
    "    template = template.replace(\"OXYGEN\", f\"{o16:.6f}\")\n",
    "    # set profile number\n",
    "    num = pfile.split('/')[-1].split('.')[0]\n",
    "    template = template.replace(\"NUMBER\", num)\n",
    "    print(template, file=open(output, 'w'))\n",
    "    # show\n",
    "    print(template)\n",
    "\n",
    "    \n",
    "#test\n",
    "mk_table(pfile)    "
   ]
  },
  {
   "cell_type": "code",
   "execution_count": null,
   "metadata": {},
   "outputs": [],
   "source": [
    "print(get_zeta_oph_surface_he(X=0.678044))\n",
    "# show me some data\n",
    "print(\"he4:\", f\"{get_zeta_oph_surface_he(X=0.678044)[0]:.2f}\", \"^{+\", f\"{get_zeta_oph_surface_he(X=0.678044)[1]:.2f}\",\"}\", \"_{-\", f\"{get_zeta_oph_surface_he(X=0.678044)[2]:.2f}\",\"}\")\n",
    "print(\"c12:\", f\"{get_zeta_oph_surface_c(X=0.678044)[0]:.4f}\", \"\\pm\", f\"{get_zeta_oph_surface_c(X=0.678044)[1]:.4f}\" )\n",
    "print(\"n14:\", f\"{get_zeta_oph_surface_n(X=0.678044)[0]:.3f}\", \"\\pm\", f\"{get_zeta_oph_surface_n(X=0.678044)[1]:.3f}\")\n",
    "print(\"o16:\", f\"{get_zeta_oph_surface_o(X=0.678044)[0]:.3f}\", \"\\pm\", f\"{get_zeta_oph_surface_o(X=0.678044)[1]:.3f}\")\n",
    "# print(\"========================2==\"2\n",
    "# print(\"he4:\", get_zeta_oph_surf2ce_2e(X=0.7))\n",
    "# print(\"c12:\", get_zeta_oph_surf2ce_c(X=0.7))\n",
    "# print(\"n14:\", get_zeta_oph_surface_n(X=0.7))\n",
    "# print(\"o16:\", get_zeta_oph_surface_o(X=0.7))"
   ]
  }
 ],
 "metadata": {
  "kernelspec": {
   "argv": [
    "/mnt/home/mrenzo/anaconda3/envs/py3/bin/python",
    "-m",
    "ipykernel_launcher",
    "-f",
    "{connection_file}"
   ],
   "display_name": "Python 3",
   "env": null,
   "interrupt_mode": "signal",
   "language": "python",
   "metadata": null,
   "name": "python3"
  },
  "name": "table.ipynb"
 },
 "nbformat": 4,
 "nbformat_minor": 2
}
