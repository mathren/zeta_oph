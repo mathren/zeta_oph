{
 "cells": [
  {
   "cell_type": "markdown",
   "metadata": {
    "collapsed": false
   },
   "source": [
    "# Make table comparing with observations\n",
    "author: [Mathieu Renzo](mrenzo@flatironinstitute.org)"
   ]
  },
  {
   "cell_type": "code",
   "execution_count": 1,
   "metadata": {
    "collapsed": false
   },
   "outputs": [],
   "source": [
    "import sys\n",
    "# the line below import stuff from git@github.com:mathren90/plotFunc.git\n",
    "sys.path.append('/mnt/home/mrenzo/codes/python_stuff/plotFunc/')\n",
    "from MESAreader import *\n",
    "import matplotlib.pyplot as plt\n",
    "%matplotlib inline\n",
    "from plotDefaults import *\n",
    "# plot_aux defines many auxiliary functions to make plots\n",
    "from plot_aux import *\n"
   ]
  },
  {
   "cell_type": "code",
   "execution_count": 2,
   "metadata": {
    "collapsed": false
   },
   "outputs": [
    {
     "name": "stdout",
     "output_type": "stream",
     "text": [
      "done in plotDefaults.py\n"
     ]
    }
   ],
   "source": [
    "set_plotDefaults()"
   ]
  },
  {
   "cell_type": "code",
   "execution_count": 3,
   "metadata": {
    "collapsed": false
   },
   "outputs": [
    {
     "name": "stdout",
     "output_type": "stream",
     "text": [
      "re-run\\_exponential\n"
     ]
    }
   ],
   "source": [
    "# root folder for best model\n",
    "folder = \"/mnt/home/mrenzo/RUNS/zeta_ophiuchi/M1_25_M2_17_P100_Z0.01/re-run_exponential/\"\n",
    "# folder = \"/mnt/home/mrenzo/RUNS/zeta_ophiuchi/M1_30_M2_17_P100_Z0.01/\"\n",
    "# folder = \"/mnt/home/mrenzo/RUNS/zeta_ophiuchi/M1_25_M2_17_P100_Z0.01/weak_wind/\"\n",
    "# folder = \"/mnt/home/mrenzo/RUNS/zeta_ophiuchi/M1_25_M2_17_P100_Z0.01/do_J_accretion/\"\n",
    "binary = folder+\"/binary_to_postRLOF/\"\n",
    "accretor = folder+\"/accretor_to_TAMS/\"\n",
    "dhfile = binary+\"/LOGS1/history.data\"\n",
    "hfile1 = binary+'/LOGS2/history.data'\n",
    "hfile2 = accretor+'/LOGS/history.data'\n",
    "bfile = binary+'/binary_history.data'\n",
    "model_name = folder.split('/')[-2].replace('_','\\_')\n",
    "print(model_name)"
   ]
  },
  {
   "cell_type": "code",
   "execution_count": 10,
   "metadata": {
    "collapsed": false
   },
   "outputs": [
    {
     "data": {
      "text/plain": [
       "(0, 20.081512066973072)"
      ]
     },
     "execution_count": 10,
     "metadata": {},
     "output_type": "execute_result"
    },
    {
     "name": "stderr",
     "output_type": "stream",
     "text": [
      "/mnt/home/mrenzo/anaconda3/lib/python3.7/site-packages/IPython/core/events.py:88: UserWarning: Tight layout not applied. tight_layout cannot make axes width small enough to accommodate all axes decorations\n",
      "  func(*args, **kwargs)\n"
     ]
    },
    {
     "data": {
      "image/png": "[encoded data removed]",
      "text/plain": [
       "<Figure size 1080x648 with 1 Axes>"
      ]
     },
     "metadata": {},
     "output_type": "display_data"
    }
   ],
   "source": [
    "pfile = accretor+'/LOGS/profile11.data'\n",
    "src, col = getSrcCol(pfile)\n",
    "# print(col)\n",
    "# dq = src[:, col.index('dq')]\n",
    "mass = src[:, col.index(\"mass\")]\n",
    "he4 = src[:, col.index('he4')]\n",
    "c12 = src[:, col.index('c12')]\n",
    "n14 = src[:, col.index('n14')]\n",
    "o16 = src[:, col.index('o16')]\n",
    "\n",
    "fig = plt.figure(figsize=(15,9))\n",
    "gs = gridspec.GridSpec(100, 100)\n",
    "ax = fig.add_subplot(gs[:,:])\n",
    "ax.plot(mass, he4, label=\"he4\")\n",
    "ax.plot(mass, c12, label=\"c12\")\n",
    "ax.plot(mass, n14, label=\"n14\")\n",
    "ax.plot(mass, o16, label=\"o16\")\n",
    "ax.set_xlim(0, max(mass))\n"
   ]
  },
  {
   "cell_type": "code",
   "execution_count": 11,
   "metadata": {
    "collapsed": false
   },
   "outputs": [
    {
     "name": "stdout",
     "output_type": "stream",
     "text": [
      "['zone', 'mass', 'logR', 'logT', 'logRho', 'logP', 'x_mass_fraction_H', 'y_mass_fraction_He', 'z_mass_fraction_metals', 'dm', 'logdq', 'log_g', 'radius', 'velocity', 'dq', 'energy', 'entropy', 'prad', 'pgas', 'pgas_div_ptotal', 'eta', 'mu', 'dE_dRho', 'cp', 'gamma1', 'csound', 'v_div_cs', 'net_nuclear_energy', 'net_energy', 'eps_nuc', 'non_nuc_neu', 'pp', 'cno', 'tri_alfa', 'burn_c', 'burn_n', 'burn_o', 'burn_ne', 'burn_na', 'burn_mg', 'burn_si', 'burn_s', 'burn_ar', 'burn_ca', 'burn_ti', 'burn_cr', 'burn_fe', 'c12_c12', 'c12_o16', 'o16_o16', 'pnhe4', 'photo', 'ni56_co56', 'co56_fe56', 'other', 'abar', 'zbar', 'z2bar', 'ye', 'neut', 'h1', 'prot', 'he3', 'he4', 'c12', 'n14', 'o16', 'ne20', 'mg24', 'si28', 's32', 'ar36', 'ca40', 'ti44', 'cr48', 'cr56', 'fe52', 'fe54', 'fe56', 'co56', 'ni56', 'opacity', 'log_Lrad_div_Ledd', 'conv_vel', 'gradT', 'grada_sub_gradT', 'mixing_type', 'log_D_mix', 'log_D_mix_non_rotation', 'log_D_conv', 'log_D_semi', 'log_D_thrm', 'tau', 'omega', 'omega_crit', 'omega_div_omega_crit', 'am_log_D_visc', 'am_log_D_DSI', 'am_log_D_SH', 'am_log_D_SSI', 'am_log_D_ES', 'am_log_D_GSF', 'am_log_D_ST', 'am_log_nu_ST']\n"
     ]
    }
   ],
   "source": [
    "print(col)"
   ]
  },
  {
   "cell_type": "code",
   "execution_count": 46,
   "metadata": {
    "collapsed": false
   },
   "outputs": [],
   "source": [
    "# based on the plot above, we can take the value in zone 1 as the surface value\n",
    "\n",
    "def get_data_from_pfile(pfile):\n",
    "    src, col = getSrcCol(pfile)\n",
    "\n",
    "    h1 = src[0, col.index('h1')]\n",
    "    he4 = src[0, col.index('he4')]\n",
    "    c12 = src[0, col.index('c12')]\n",
    "    n14 = src[0, col.index('n14')]\n",
    "    o16 = src[0, col.index('o16')]\n",
    "    radius = src[0, col.index(\"radius\")]\n",
    "    omega =  src[0, col.index(\"omega\")]\n",
    "    mass = src[0, col.index(\"mass\")]\n",
    "    vrot = (radius*Rsun_cm/1e5)*omega\n",
    "    return(mass, radius, np.log10(omega), vrot, h1, he4, c12,n14, o16)"
   ]
  },
  {
   "cell_type": "code",
   "execution_count": 48,
   "metadata": {
    "collapsed": false
   },
   "outputs": [],
   "source": [
    "def mk_table(pfile, output=\"../manuscript/table.tex\"):\n",
    "    mass, radius, log_omega, vrot, h1, he4, c12,n14, o16 = get_data_from_pfile(pfile)\n",
    "    # define template\n",
    "    template = r\"\"\"\n",
    "    % this table was automatically generated using the table.ipynb in the repository associated to this manuscript\n",
    "    \\begin{table*}[hbpt]\n",
    "    \\centering\n",
    "    \\begin{tabular}{c|c|c|c|c|c|c|c|c}\n",
    "    \\hline\\hline\n",
    "    $M \\ [M_\\odot]$ & $R\\ [R_\\odot]$ & $\\log_{10}(\\omega / [\\mathrm{s^{-1}}])$ & $v_\\mathrm{rot} \\ [\\kms] $ & $X(^{1}\\mathrm{H})$ & $X(^{4}\\mathrm{He})$ & $X(^{12}\\mathrm{C})$ & $X(^{14}\\mathrm{N})$ & $X(^{16}\\mathrm{O})$ \\\\\n",
    "    \\hline\n",
    "    MASS & RADIUS & LOG_OMEGA & VROT & HYDROGEN & HE & CARBON & NITROGEN & OXYGEN \\\\\n",
    "    \\hline\n",
    "    \\end{tabular}\n",
    "    \\caption{Properties of the accretors shortly after the end of RLOF\n",
    "    (last thin blue cross in \\Figref{fig:HRD_both})}\n",
    "    \\label{tab:surf_prop}\n",
    "    \\end{table*}\n",
    "    \"\"\"\n",
    "    template = template.replace(\"MASS\", f\"{mass:.1f}\")\n",
    "    template = template.replace(\"RADIUS\", f\"{radius:.1f}\")\n",
    "    template = template.replace(\"LOG_OMEGA\", f\"{log_omega:.3f}\")\n",
    "    template = template.replace(\"VROT\", f\"{vrot:.1f}\")\n",
    "    template = template.replace(\"HYDROGEN\", f\"{h1:.6f}\")\n",
    "    template = template.replace(\"HE\", f\"{he4:.6f}\")\n",
    "    template = template.replace(\"CARBON\", f\"{c12:.6f}\")\n",
    "    template = template.replace(\"NITROGEN\", f\"{n14:.6f}\")\n",
    "    template = template.replace(\"OXYGEN\", f\"{o16:.6f}\")\n",
    "    print(template, file=open(output, 'w'))\n",
    "\n",
    "    \n",
    "#test\n",
    "mk_table(pfile)\n",
    "    "
   ]
  }
 ],
 "metadata": {
  "kernelspec": {
   "argv": [
    "/mnt/home/mrenzo/anaconda3/bin/python",
    "-m",
    "ipykernel_launcher",
    "-f",
    "{connection_file}"
   ],
   "display_name": "Python 3",
   "env": null,
   "interrupt_mode": "signal",
   "language": "python",
   "metadata": null,
   "name": "python3"
  },
  "name": "table.ipynb"
 },
 "nbformat": 4,
 "nbformat_minor": 2
}
