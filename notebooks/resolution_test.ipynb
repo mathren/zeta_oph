{
 "cells": [
  {
   "cell_type": "markdown",
   "metadata": {
    "ein.tags": "worksheet-0",
    "slideshow": {
     "slide_type": "-"
    }
   },
   "source": [
    "# Compare two binary models\n",
    "author: [Mathieu Renzo](mrenzo@flatironinstitute.org)"
   ]
  },
  {
   "cell_type": "code",
   "execution_count": null,
   "metadata": {
    "autoscroll": false,
    "ein.hycell": false,
    "ein.tags": "worksheet-0",
    "slideshow": {
     "slide_type": "-"
    }
   },
   "outputs": [],
   "source": [
    "import sys\n",
    "# the line below import stuff from git@github.com:mathren90/plotFunc.git\n",
    "sys.path.append('/mnt/home/mrenzo/codes/python_stuff/plotFunc/')\n",
    "from MESAreader import *\n",
    "import matplotlib.pyplot as plt\n",
    "from plotDefaults import *"
   ]
  },
  {
   "cell_type": "code",
   "execution_count": null,
   "metadata": {
    "autoscroll": false,
    "ein.hycell": false,
    "ein.tags": "worksheet-0",
    "slideshow": {
     "slide_type": "-"
    }
   },
   "outputs": [],
   "source": [
    "set_plotDefaults()"
   ]
  },
  {
   "cell_type": "code",
   "execution_count": null,
   "metadata": {
    "autoscroll": false,
    "ein.hycell": false,
    "ein.tags": "worksheet-0",
    "slideshow": {
     "slide_type": "-"
    }
   },
   "outputs": [],
   "source": [
    "root = \"/mnt/home/mrenzo/RUNS/zeta_ophiuchi/M1_25_M2_17_P100_Z0.01\"\n",
    "fiducial = root+\"/re-run_exponential/binary_to_postRLOF/\"\n",
    "time_res = root+\"/res_tests/time_res/binary_to_postRLOF/\"\n",
    "space_res = root+\"/res_tests/space_res/binary_to_postRLOF/\""
   ]
  },
  {
   "cell_type": "code",
   "execution_count": null,
   "metadata": {
    "autoscroll": false,
    "ein.hycell": false,
    "ein.tags": "worksheet-0",
    "slideshow": {
     "slide_type": "-"
    }
   },
   "outputs": [],
   "source": [
    "def getlogLlogTeff(hfile):\n",
    "    src, col = getSrcCol(hfile)\n",
    "    log_Teff = src[:, col.index(\"log_Teff\")]\n",
    "    logL = src[:, col.index(\"log_L\")]\n",
    "    return logL, log_Teff\n",
    "\n",
    "\n",
    "def HRD(binary1, binary2, fig_name=\"\"):\n",
    "    print(colored(binary1, \"blue\"))\n",
    "    print(colored(binary2, \"blue\"))\n",
    "    fig = plt.figure()\n",
    "    gs = gridspec.GridSpec(100, 100)\n",
    "    ax = fig.add_subplot(gs[:,:])\n",
    "    \n",
    "    # donors\n",
    "    # ------binary1\n",
    "    hfile_donor1 = binary1+'/LOGS1/history.data'\n",
    "    Ldonor1, Teffdonor1 = getlogLlogTeff(hfile_donor1)\n",
    "    ax.plot(Teffdonor1, Ldonor1, c='b', label=r\"$\\Delta=1.0\\ \\mathrm{donor}$\")\n",
    "    # ------binary1\n",
    "    hfile_donor2 = binary2+'/LOGS1/history.data'\n",
    "    Ldonor2, Teffdonor2 = getlogLlogTeff(hfile_donor2)\n",
    "    ax.plot(Teffdonor2, Ldonor2, c='c', lw=5, ls='--', label=r\"$\\Delta=0.8\\ \\mathrm{donor}$\")\n",
    "    # accretors\n",
    "    # ---------binary2\n",
    "    hfile_accretor1 = binary1+'/LOGS2/history.data'\n",
    "    Laccretor1, Teffaccretor1 = getlogLlogTeff(hfile_accretor1)\n",
    "    ax.plot(Teffaccretor1, Laccretor1, c='r', label=r\"$\\Delta=1.0\\ \\mathrm{accretor}$\")\n",
    "    # ------binary1\n",
    "    hfile_accretor2 = binary2+'/LOGS2/history.data'\n",
    "    Laccretor2, Teffaccretor2 = getlogLlogTeff(hfile_accretor2)\n",
    "    ax.plot(Teffaccretor2, Laccretor2, c='#FFC0CB', lw=5, ls='--', label=r\"$\\Delta=0.8\\ \\mathrm{accretor}$\")\n",
    "    \n",
    "    ax.invert_xaxis()\n",
    "    ax.legend()\n",
    "    ax.set_xlabel(r\"$\\log_{10}(T_\\mathrm{eff}\\ [K])$\")\n",
    "    ax.set_ylabel(r\"$\\log_{10}(L/L_\\odot)$\")\n",
    "    if fig_name!=\"\":\n",
    "        plt.savefig(fig_name, dpi=10)\n",
    "\n",
    "# test\n",
    "HRD(fiducial, time_res, fig_name=\"/mnt/home/mrenzo/TMP/HRD_time_res.pdf\")    "
   ]
  },
  {
   "cell_type": "code",
   "execution_count": null,
   "metadata": {
    "autoscroll": false,
    "ein.hycell": false,
    "ein.tags": "worksheet-0",
    "slideshow": {
     "slide_type": "-"
    }
   },
   "outputs": [],
   "source": [
    "def get_timesteps_mesh(hfile):\n",
    "    src, col = getSrcCol(hfile)\n",
    "    mn = src[:, col.index(\"model_number\")]\n",
    "    dt = src[:, col.index(\"log_dt\")]\n",
    "    nz = src[:, col.index(\"num_zones\")]\n",
    "    return mn, dt, nz\n",
    "\n",
    "def dt_plot(binary1, binary2):\n",
    "    print(colored(binary1, \"blue\"))\n",
    "    print(colored(binary2, \"blue\"))\n",
    "    fig = plt.figure()\n",
    "    gs = gridspec.GridSpec(100, 100)\n",
    "    ax = fig.add_subplot(gs[:,:])\n",
    "    \n",
    "    hfile_donor1 = binary1+'/LOGS1/history.data'\n",
    "    mn, dt, nz = get_timesteps_mesh(hfile_donor1)\n",
    "    ax.plot(mn, dt, c='b')\n",
    "    \n",
    "    hfile_donor2 = binary2+'/LOGS1/history.data'\n",
    "    mn, dt, nz = get_timesteps_mesh(hfile_donor2)\n",
    "    ax.plot(mn, dt, c='c')\n",
    "\n",
    "    # timesteps are the same, so no need for showing accretors\n",
    "    # hfile_accretor1 = binary1+'/LOGS2/history.data'\n",
    "    # mn, dt, nz = get_timesteps_mesh(hfile_accretor1)\n",
    "    # ax.plot(mn, dt, c='r')\n",
    "\n",
    "    # hfile_accretor2 = binary2+'/LOGS2/history.data'\n",
    "    # mn, dt, nz = get_timesteps_mesh(hfile_accretor2)\n",
    "    # ax.plot(mn, dt, c='#FFC0CB')\n",
    "\n",
    "    ax.set_xlabel(r\"model number\")\n",
    "    ax.set_ylabel(r\"logdt\")\n",
    "\n",
    "\n",
    "\n",
    "\n",
    "def nz_plot(binary1, binary2, fig_name=\"\"):\n",
    "    print(colored(binary1, \"blue\"))\n",
    "    print(colored(binary2, \"blue\"))\n",
    "    fig = plt.figure()\n",
    "    gs = gridspec.GridSpec(100, 100)\n",
    "    ax = fig.add_subplot(gs[:50,:])\n",
    "    bx = fig.add_subplot(gs[50:,:])\n",
    "    \n",
    "    hfile_donor1 = binary1+'/LOGS1/history.data'\n",
    "    mn, dt, nz = get_timesteps_mesh(hfile_donor1)\n",
    "    ax.plot(mn, nz, c='b')\n",
    "    \n",
    "    hfile_donor2 = binary2+'/LOGS1/history.data'\n",
    "    mn, dt, nz = get_timesteps_mesh(hfile_donor2)\n",
    "    ax.plot(mn, nz, c='c')\n",
    "\n",
    "    hfile_accretor1 = binary1+'/LOGS2/history.data'\n",
    "    mn, dt, nz = get_timesteps_mesh(hfile_accretor1)\n",
    "    bx.plot(mn, nz, c='r')\n",
    "\n",
    "    hfile_accretor2 = binary2+'/LOGS2/history.data'\n",
    "    mn, dt, nz = get_timesteps_mesh(hfile_accretor2)\n",
    "    bx.plot(mn, nz, c='#FFC0CB')\n",
    "    \n",
    "    bx.set_xlabel(r\"$\\mathrm{model\\ number}$\")\n",
    "    ax.set_ylabel(r\"$\\#\\ \\mathrm{mesh\\ points}$\")\n",
    "    bx.set_ylabel(r\"$\\#\\ \\mathrm{mesh\\ points}$\")\n",
    "    if fig_name != \"\":\n",
    "        plt.savefig(fig_name, dpi=10)\n",
    "    \n",
    "dt_plot(fiducial, time_res)\n",
    "# nz_plot(fiducial, space_res, fig_name=\"/mnt/home/mrenzo/TMP/num_mesh_points.pdf\")  "
   ]
  },
  {
   "cell_type": "code",
   "execution_count": null,
   "metadata": {},
   "outputs": [],
   "source": [
    "# make unique resolution plot\n",
    "def resolution_plot(binary1, binary2, fig_name=\"\"):\n",
    "    fig = plt.figure(figsize=(20,10))\n",
    "    gs = gridspec.GridSpec(110, 100)\n",
    "    ax_HRD = fig.add_subplot(gs[:,:50])\n",
    "    ax = fig.add_subplot(gs[50:,60:])\n",
    "    bx = fig.add_subplot(gs[:50,60:])\n",
    "\n",
    "    print(colored(binary1, \"blue\"))\n",
    "    print(colored(binary2, \"blue\"))\n",
    "\n",
    "    # donors\n",
    "    # ------binary1\n",
    "    hfile_donor1 = binary1+'/LOGS1/history.data'\n",
    "    Ldonor1, Teffdonor1 = getlogLlogTeff(hfile_donor1)\n",
    "    ax_HRD.plot(Teffdonor1, Ldonor1, c='b', label=r\"$\\Delta=1.0\\ \\mathrm{donor}$\")\n",
    "    # ------binary1\n",
    "    hfile_donor2 = binary2+'/LOGS1/history.data'\n",
    "    Ldonor2, Teffdonor2 = getlogLlogTeff(hfile_donor2)\n",
    "    ax_HRD.plot(Teffdonor2, Ldonor2, c='c', lw=5, ls='--', label=r\"$\\Delta=0.8\\ \\mathrm{donor}$\")\n",
    "    # accretors\n",
    "    # ---------binary2\n",
    "    hfile_accretor1 = binary1+'/LOGS2/history.data'\n",
    "    Laccretor1, Teffaccretor1 = getlogLlogTeff(hfile_accretor1)\n",
    "    ax_HRD.plot(Teffaccretor1, Laccretor1, c='r', label=r\"$\\Delta=1.0\\ \\mathrm{accretor}$\")\n",
    "    # ------binary1\n",
    "    hfile_accretor2 = binary2+'/LOGS2/history.data'\n",
    "    Laccretor2, Teffaccretor2 = getlogLlogTeff(hfile_accretor2)\n",
    "    ax_HRD.plot(Teffaccretor2, Laccretor2, c='#FFC0CB', lw=5, ls='--', label=r\"$\\Delta=0.8\\ \\mathrm{accretor}$\")\n",
    "    \n",
    "    ax_HRD.invert_xaxis()\n",
    "    ax_HRD.legend()\n",
    "    ax_HRD.set_xlabel(r\"$\\log_{10}(T_\\mathrm{eff}\\ [K])$\")\n",
    "    ax_HRD.set_ylabel(r\"$\\log_{10}(L/L_\\odot)$\")\n",
    "\n",
    "    hfile_donor1 = binary1+'/LOGS1/history.data'\n",
    "    mn, dt, nz = get_timesteps_mesh(hfile_donor1)\n",
    "    ax.plot(mn, nz, c='b')\n",
    "    \n",
    "    hfile_donor2 = binary2+'/LOGS1/history.data'\n",
    "    mn, dt, nz = get_timesteps_mesh(hfile_donor2)\n",
    "    ax.plot(mn, nz, c='c')\n",
    "\n",
    "    hfile_accretor1 = binary1+'/LOGS2/history.data'\n",
    "    mn, dt, nz = get_timesteps_mesh(hfile_accretor1)\n",
    "    bx.plot(mn, nz, c='r')\n",
    "\n",
    "    hfile_accretor2 = binary2+'/LOGS2/history.data'\n",
    "    mn, dt, nz = get_timesteps_mesh(hfile_accretor2)\n",
    "    bx.plot(mn, nz, c='#FFC0CB')\n",
    "    \n",
    "    ax.set_xlabel(r\"$\\mathrm{model\\ number}$\")\n",
    "    ax.set_ylabel(r\"$\\#\\ \\mathrm{mesh\\ points}$\")\n",
    "    bx.set_ylabel(r\"$\\#\\ \\mathrm{mesh\\ points}$\")\n",
    "    bx.set_xlim(ax.get_xlim())\n",
    "    bx.set_xticklabels([])\n",
    "    \n",
    "    if fig_name != \"\":\n",
    "        plt.savefig(fig_name, dpi=10)\n",
    "\n",
    "    \n",
    " \n",
    "\n",
    "resolution_plot(fiducial, space_res, fig_name=\"/mnt/home/mrenzo/TMP/spatial_res_plot.pdf\")"
   ]
  }
 ],
 "metadata": {
  "kernelspec": {
   "argv": [
    "/mnt/home/mrenzo/anaconda3/envs/py3/bin/python",
    "-m",
    "ipykernel_launcher",
    "-f",
    "{connection_file}"
   ],
   "display_name": "Python 3",
   "env": null,
   "interrupt_mode": "signal",
   "language": "python",
   "metadata": null,
   "name": "python3"
  },
  "language_info": {
   "codemirror_mode": {
    "name": "ipython",
    "version": 3
   },
   "file_extension": ".py",
   "mimetype": "text/x-python",
   "name": "python",
   "nbconvert_exporter": "python",
   "pygments_lexer": "ipython3",
   "version": "3.7.4"
  },
  "name": "resolution_test.ipynb"
 },
 "nbformat": 4,
 "nbformat_minor": 2
}
