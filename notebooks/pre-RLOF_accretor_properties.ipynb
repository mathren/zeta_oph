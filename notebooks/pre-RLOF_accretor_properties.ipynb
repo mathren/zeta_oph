{
 "cells": [
  {
   "cell_type": "markdown",
   "id": "d76b5136-0742-446e-a719-911bdd2fd7d9",
   "metadata": {},
   "source": [
    "# Study the pre-RLOF properties of the accretor"
   ]
  },
  {
   "cell_type": "code",
   "execution_count": null,
   "id": "5db9da60-0802-4f9e-95e1-25862185a34a",
   "metadata": {},
   "outputs": [],
   "source": [
    "import sys\n",
    "# the line below import stuff from git@github.com:mathren90/plotFunc.git\n",
    "sys.path.append('/mnt/home/mrenzo/codes/python_stuff/plotFunc/')\n",
    "from MESAreader import *\n",
    "import matplotlib.pyplot as plt\n",
    "%matplotlib inline\n",
    "from plot_defaults import *\n",
    "# plot_aux defines many auxiliary functions to make plots\n",
    "from plot_aux import *\n",
    "from lib_pre_RLOF import *\n",
    "%load_ext autoreload\n",
    "%autoreload 2"
   ]
  },
  {
   "cell_type": "code",
   "execution_count": null,
   "id": "7ef52736-0833-4d7c-accc-4ce58202d90d",
   "metadata": {},
   "outputs": [],
   "source": [
    "set_plot_defaults_from_matplotlibrc('./')"
   ]
  },
  {
   "cell_type": "code",
   "execution_count": null,
   "id": "e1a20845-a086-4628-804c-b4e666339ea7",
   "metadata": {},
   "outputs": [],
   "source": [
    "bin_folder = \"/mnt/home/mrenzo/ceph/RESULTS/zeta_oph/zeta_ophiuchi/M1_25_M2_17_P100_Z0.01/re-run_exponential/binary_to_postRLOF/\"\n",
    "acc_folder = bin_folder+'/LOGS2/'\n",
    "pre_RLOF_profile =  acc_folder+'/profile3573.data'\n",
    "src, col = getSrcCol(pre_RLOF_profile)"
   ]
  },
  {
   "cell_type": "markdown",
   "id": "1cbee21c-c069-4df3-a923-f98273ea6faa",
   "metadata": {},
   "source": [
    "# Density profile"
   ]
  },
  {
   "cell_type": "code",
   "execution_count": null,
   "id": "ada6df08-4d1e-4239-92f1-394dd1ecd202",
   "metadata": {},
   "outputs": [],
   "source": [
    "plot_rho_Hp_radius(pre_RLOF_profile, X_onset=0.42)"
   ]
  },
  {
   "cell_type": "markdown",
   "id": "b069fd11-a421-4344-9224-2ef9baea17de",
   "metadata": {},
   "source": [
    "So the pressure scale height at the core boundary, which is marked by\n",
    "the dashed purple line above is about $H_p\\simeq\n",
    "10^{10.4}\\,\\mathrm{cm}$.\n",
    "We need at least 10 cells there, so the mesh size cannot be larger\n",
    "than $\\Delta\\simeq 10^{9.4}\\,\\mathrm{cm}$."
   ]
  },
  {
   "cell_type": "markdown",
   "id": "5d048d8b-8963-4db9-8a06-98db22629264",
   "metadata": {},
   "source": [
    "# sanity check: mass plots"
   ]
  },
  {
   "cell_type": "code",
   "execution_count": null,
   "id": "c98ef68d-a165-41ef-9185-998313bd68d6",
   "metadata": {},
   "outputs": [],
   "source": [
    "plot_rho_Hp_mass(pre_RLOF_profile, X_onset=0.42)"
   ]
  }
 ],
 "metadata": {
  "kernelspec": {
   "argv": [
    "/mnt/home/mrenzo/anaconda3/envs/py3/bin/python",
    "-m",
    "ipykernel_launcher",
    "-f",
    "{connection_file}"
   ],
   "display_name": "Python 3 (ipykernel)",
   "env": null,
   "interrupt_mode": "signal",
   "language": "python",
   "metadata": {
    "debugger": true
   },
   "name": "python3"
  },
  "name": "pre-RLOF_accretor_properties.ipynb"
 },
 "nbformat": 4,
 "nbformat_minor": 2
}
