{
 "cells": [
  {
   "cell_type": "markdown",
   "id": "d76b5136-0742-446e-a719-911bdd2fd7d9",
   "metadata": {},
   "source": [
    "# Study the pre-RLOF properties of the accretor"
   ]
  },
  {
   "cell_type": "code",
   "execution_count": null,
   "id": "5db9da60-0802-4f9e-95e1-25862185a34a",
   "metadata": {},
   "outputs": [],
   "source": [
    "import sys\n",
    "# the line below import stuff from git@github.com:mathren90/plotFunc.git\n",
    "sys.path.append('/mnt/home/mrenzo/codes/python_stuff/plotFunc/')\n",
    "from MESAreader import *\n",
    "import matplotlib.pyplot as plt\n",
    "%matplotlib inline\n",
    "from plot_defaults import *\n",
    "# plot_aux defines many auxiliary functions to make plots\n",
    "from plot_aux import *"
   ]
  },
  {
   "cell_type": "code",
   "execution_count": null,
   "id": "7ef52736-0833-4d7c-accc-4ce58202d90d",
   "metadata": {},
   "outputs": [],
   "source": [
    "set_plot_defaults_from_matplotlibrc('./')"
   ]
  },
  {
   "cell_type": "code",
   "execution_count": null,
   "id": "e1a20845-a086-4628-804c-b4e666339ea7",
   "metadata": {},
   "outputs": [],
   "source": [
    "bin_folder = \"/mnt/home/mrenzo/ceph/RESULTS/zeta_oph/zeta_ophiuchi/M1_25_M2_17_P100_Z0.01/re-run_exponential/binary_to_postRLOF/\"\n",
    "acc_folder = bin_folder+'/LOGS2/'\n",
    "pre_RLOF_profile =  acc_folder+'/profile3573.data'\n",
    "src, col = getSrcCol(pre_RLOF_profile)"
   ]
  },
  {
   "cell_type": "code",
   "execution_count": null,
   "id": "2de2e6a4-d323-4164-854a-e620c7c02fa9",
   "metadata": {},
   "outputs": [],
   "source": [
    "for c in col:\n",
    "    print(c)"
   ]
  },
  {
   "cell_type": "markdown",
   "id": "1cbee21c-c069-4df3-a923-f98273ea6faa",
   "metadata": {},
   "source": [
    "# Density profile"
   ]
  },
  {
   "cell_type": "code",
   "execution_count": null,
   "id": "7a6d1492-def9-4258-a863-d4d64f8c1267",
   "metadata": {},
   "outputs": [],
   "source": [
    "def get_pressure_scale_height(pfile):\n",
    "    \"\"\" assuming hydrostatic equilibrium H = P/(rho g)\"\"\"\n",
    "    src, col = getSrcCol(pfile)\n",
    "    P = 10.0**(src[:, col.index(\"logP\")])\n",
    "    rho = 10.0**(src[:, col.index(\"logRho\")])\n",
    "    g = 10.00**(src[:, col.index(\"log_g\")])\n",
    "    return P/(rho*g) # cm"
   ]
  },
  {
   "cell_type": "code",
   "execution_count": null,
   "id": "af0ad0b8-414b-499a-9734-7cddc977161c",
   "metadata": {},
   "outputs": [],
   "source": [
    "def get_convective_core(pfile):\n",
    "    src, col = getSrcCol(pfile)\n",
    "    log_D_conv = src[:, col.index(\"log_D_conv\")]\n",
    "    m = src[:, col.index(\"mass\")]\n",
    "    conv = [log_D_conv > 0]\n",
    "    "
   ]
  },
  {
   "cell_type": "code",
   "execution_count": null,
   "id": "ada6df08-4d1e-4239-92f1-394dd1ecd202",
   "metadata": {},
   "outputs": [],
   "source": [
    "fig = plt.figure()\n",
    "gs = gridspec.GridSpec(10, 10)\n",
    "ax = fig.add_subplot(gs[:,:])\n",
    "ax2 = ax.twinx()\n",
    "\n",
    "log_rho = src[:, col.index(\"logRho\")]\n",
    "log_r = np.log10(src[:, col.index(\"radius\")]*Rsun_cm)\n",
    "H = get_pressure_scale_height(pre_RLOF_profile)\n",
    "logH = np.log10(H)\n",
    "h1 = src[:, col.index(\"h1\")]\n",
    "icore = np.argmin(np.absolute(h1-0.42))\n",
    "ax.plot(log_r, log_rho, c='b')\n",
    "ax2.plot(log_r, logH, color='r')\n",
    "ax.axvline(log_r[icore], 0,1, ls='--', lw=2, c='m')\n",
    "ax.set_xlabel(r\"$\\log_{10}(r/\\mathrm{[cm]})$\")\n",
    "ax.set_ylabel(r\"$\\log_{10}(\\rho/\\mathrm{[g\\ cm^{-3}]})$\", color='b')\n",
    "ax2.set_ylabel(r\"$\\log_{10}(H_p/ \\mathrm{[cm]})$\", color=\"red\")\n",
    "\n"
   ]
  },
  {
   "cell_type": "markdown",
   "id": "b069fd11-a421-4344-9224-2ef9baea17de",
   "metadata": {},
   "source": [
    "So the pressure scale height at the core boundary, which is marked by\n",
    "the dashed purple line above is about $H_p\\simeq\n",
    "10^{10.4}\\,\\mathrm{cm}$.\n",
    "We need at least 10 cells there, so the mesh size cannot be larger\n",
    "than $\\Delta\\simeq 10^{9.4}\\,\\mathrm{cm}$."
   ]
  },
  {
   "cell_type": "markdown",
   "id": "5d048d8b-8963-4db9-8a06-98db22629264",
   "metadata": {},
   "source": [
    "# sanity check: mass plots"
   ]
  },
  {
   "cell_type": "code",
   "execution_count": null,
   "id": "572601d9-2807-4bde-a340-f2ee60fc7808",
   "metadata": {},
   "outputs": [],
   "source": [
    "fig = plt.figure()\n",
    "gs = gridspec.GridSpec(10, 10)\n",
    "ax = fig.add_subplot(gs[:,:])\n",
    "ax2 = ax.twinx()\n",
    "\n",
    "log_rho = src[:, col.index(\"logRho\")]\n",
    "# log_r = np.log10(src[:, col.index(\"radius\")]*Rsun_cm)\n",
    "m = src[:, col.index(\"mass\")]\n",
    "H = get_pressure_scale_height(pre_RLOF_profile)\n",
    "logH = np.log10(H)\n",
    "h1 = src[:, col.index(\"h1\")]\n",
    "icore = np.argmin(np.absolute(h1-0.42))\n",
    "ax.plot(m, log_rho, c='b')\n",
    "ax2.plot(m, logH, color='r')\n",
    "ax.axvline(m[icore], 0,1, ls='--', lw=2, c='m')\n",
    "ax.set_xlabel(r\"$\\mathrm{Mass}\\ [M_\\odot]$\")\n",
    "ax.set_ylabel(r\"$\\log_{10}(\\rho/\\mathrm{[g\\ cm^{-3}]})$\", color='b')\n",
    "ax2.set_ylabel(r\"$\\log_{10}(H_p/ \\mathrm{[cm]})$\", color=\"red\")\n"
   ]
  }
 ],
 "metadata": {
  "kernelspec": {
   "argv": [
    "/mnt/home/mrenzo/anaconda3/envs/py3/bin/python",
    "-m",
    "ipykernel_launcher",
    "-f",
    "{connection_file}"
   ],
   "display_name": "Python 3 (ipykernel)",
   "env": null,
   "interrupt_mode": "signal",
   "language": "python",
   "metadata": {
    "debugger": true
   },
   "name": "python3"
  },
  "name": "pre-RLOF_accretor_properties.ipynb"
 },
 "nbformat": 4,
 "nbformat_minor": 2
}
